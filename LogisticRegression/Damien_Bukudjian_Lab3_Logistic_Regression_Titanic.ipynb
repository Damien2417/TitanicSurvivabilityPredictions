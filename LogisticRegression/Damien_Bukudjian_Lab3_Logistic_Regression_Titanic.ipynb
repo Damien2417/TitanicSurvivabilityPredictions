{
 "cells": [
  {
   "cell_type": "markdown",
   "metadata": {
    "id": "UpG7Nd4v9Xca"
   },
   "source": [
    "# Predict survival on the Titanic - Damien Bukudjian\n",
    "In this Lab, we ask you to apply the tools of machine learning to predict which passengers survived the tragedy"
   ]
  },
  {
   "cell_type": "markdown",
   "metadata": {
    "id": "PzbOp32s9Xcf"
   },
   "source": [
    "### Dataset\n",
    "The dataset contains 891 observations of 12 variables:\n",
    "* **PassengerId**: Unique ID for each passenger\n",
    "* **Survived**: Survival (0 = No; 1 = Yes)\n",
    "* **Pclass**: Passenger Class (1 = 1st; 2 = 2nd; 3 = 3rd)\n",
    "* **Name**: Name\n",
    "* **Sex**: Sex\n",
    "* **Age**: Age\n",
    "* **Sibsp**: Number of Siblings/Spouses Aboard\n",
    "* **Parch**: Number of Parents/Children Aboard\n",
    "* **Ticket**: Ticket Number\n",
    "* **Fare**: Passenger Fare\n",
    "* **Cabin**: Cabin\n",
    "* **Embarked** Port of Embarkation (C = Cherbourg; Q = Queenstown; S = Southampton)"
   ]
  },
  {
   "cell_type": "code",
   "execution_count": 11,
   "metadata": {
    "id": "p4ZCTpyI9Xch",
    "tags": []
   },
   "outputs": [],
   "source": [
    "# imports\n",
    "import warnings\n",
    "warnings.filterwarnings('ignore')\n",
    "import pandas as pd\n",
    "import numpy as np"
   ]
  },
  {
   "cell_type": "code",
   "execution_count": 12,
   "metadata": {
    "id": "3Kn5vXEB9Xcj",
    "tags": []
   },
   "outputs": [
    {
     "data": {
      "text/html": [
       "<div>\n",
       "<style scoped>\n",
       "    .dataframe tbody tr th:only-of-type {\n",
       "        vertical-align: middle;\n",
       "    }\n",
       "\n",
       "    .dataframe tbody tr th {\n",
       "        vertical-align: top;\n",
       "    }\n",
       "\n",
       "    .dataframe thead th {\n",
       "        text-align: right;\n",
       "    }\n",
       "</style>\n",
       "<table border=\"1\" class=\"dataframe\">\n",
       "  <thead>\n",
       "    <tr style=\"text-align: right;\">\n",
       "      <th></th>\n",
       "      <th>Survived</th>\n",
       "      <th>Pclass</th>\n",
       "      <th>Name</th>\n",
       "      <th>Sex</th>\n",
       "      <th>Age</th>\n",
       "      <th>SibSp</th>\n",
       "      <th>Parch</th>\n",
       "      <th>Ticket</th>\n",
       "      <th>Fare</th>\n",
       "      <th>Cabin</th>\n",
       "      <th>Embarked</th>\n",
       "    </tr>\n",
       "    <tr>\n",
       "      <th>PassengerId</th>\n",
       "      <th></th>\n",
       "      <th></th>\n",
       "      <th></th>\n",
       "      <th></th>\n",
       "      <th></th>\n",
       "      <th></th>\n",
       "      <th></th>\n",
       "      <th></th>\n",
       "      <th></th>\n",
       "      <th></th>\n",
       "      <th></th>\n",
       "    </tr>\n",
       "  </thead>\n",
       "  <tbody>\n",
       "    <tr>\n",
       "      <th>1</th>\n",
       "      <td>0</td>\n",
       "      <td>3</td>\n",
       "      <td>Braund, Mr. Owen Harris</td>\n",
       "      <td>male</td>\n",
       "      <td>22.0</td>\n",
       "      <td>1</td>\n",
       "      <td>0</td>\n",
       "      <td>A/5 21171</td>\n",
       "      <td>7.2500</td>\n",
       "      <td>NaN</td>\n",
       "      <td>S</td>\n",
       "    </tr>\n",
       "    <tr>\n",
       "      <th>2</th>\n",
       "      <td>1</td>\n",
       "      <td>1</td>\n",
       "      <td>Cumings, Mrs. John Bradley (Florence Briggs Th...</td>\n",
       "      <td>female</td>\n",
       "      <td>38.0</td>\n",
       "      <td>1</td>\n",
       "      <td>0</td>\n",
       "      <td>PC 17599</td>\n",
       "      <td>71.2833</td>\n",
       "      <td>C85</td>\n",
       "      <td>C</td>\n",
       "    </tr>\n",
       "    <tr>\n",
       "      <th>3</th>\n",
       "      <td>1</td>\n",
       "      <td>3</td>\n",
       "      <td>Heikkinen, Miss. Laina</td>\n",
       "      <td>female</td>\n",
       "      <td>26.0</td>\n",
       "      <td>0</td>\n",
       "      <td>0</td>\n",
       "      <td>STON/O2. 3101282</td>\n",
       "      <td>7.9250</td>\n",
       "      <td>NaN</td>\n",
       "      <td>S</td>\n",
       "    </tr>\n",
       "    <tr>\n",
       "      <th>4</th>\n",
       "      <td>1</td>\n",
       "      <td>1</td>\n",
       "      <td>Futrelle, Mrs. Jacques Heath (Lily May Peel)</td>\n",
       "      <td>female</td>\n",
       "      <td>35.0</td>\n",
       "      <td>1</td>\n",
       "      <td>0</td>\n",
       "      <td>113803</td>\n",
       "      <td>53.1000</td>\n",
       "      <td>C123</td>\n",
       "      <td>S</td>\n",
       "    </tr>\n",
       "    <tr>\n",
       "      <th>5</th>\n",
       "      <td>0</td>\n",
       "      <td>3</td>\n",
       "      <td>Allen, Mr. William Henry</td>\n",
       "      <td>male</td>\n",
       "      <td>35.0</td>\n",
       "      <td>0</td>\n",
       "      <td>0</td>\n",
       "      <td>373450</td>\n",
       "      <td>8.0500</td>\n",
       "      <td>NaN</td>\n",
       "      <td>S</td>\n",
       "    </tr>\n",
       "  </tbody>\n",
       "</table>\n",
       "</div>"
      ],
      "text/plain": [
       "             Survived  Pclass   \n",
       "PassengerId                     \n",
       "1                   0       3  \\\n",
       "2                   1       1   \n",
       "3                   1       3   \n",
       "4                   1       1   \n",
       "5                   0       3   \n",
       "\n",
       "                                                          Name     Sex   Age   \n",
       "PassengerId                                                                    \n",
       "1                                      Braund, Mr. Owen Harris    male  22.0  \\\n",
       "2            Cumings, Mrs. John Bradley (Florence Briggs Th...  female  38.0   \n",
       "3                                       Heikkinen, Miss. Laina  female  26.0   \n",
       "4                 Futrelle, Mrs. Jacques Heath (Lily May Peel)  female  35.0   \n",
       "5                                     Allen, Mr. William Henry    male  35.0   \n",
       "\n",
       "             SibSp  Parch            Ticket     Fare Cabin Embarked  \n",
       "PassengerId                                                          \n",
       "1                1      0         A/5 21171   7.2500   NaN        S  \n",
       "2                1      0          PC 17599  71.2833   C85        C  \n",
       "3                0      0  STON/O2. 3101282   7.9250   NaN        S  \n",
       "4                1      0            113803  53.1000  C123        S  \n",
       "5                0      0            373450   8.0500   NaN        S  "
      ]
     },
     "execution_count": 12,
     "metadata": {},
     "output_type": "execute_result"
    }
   ],
   "source": [
    "titanic = pd.read_csv('titanic.csv', index_col=0)\n",
    "titanic.head()"
   ]
  },
  {
   "cell_type": "code",
   "execution_count": 13,
   "metadata": {
    "id": "5R3HTRZ29Xck",
    "tags": []
   },
   "outputs": [
    {
     "data": {
      "text/plain": [
       "(891, 11)"
      ]
     },
     "execution_count": 13,
     "metadata": {},
     "output_type": "execute_result"
    }
   ],
   "source": [
    "# print some info about the dataframe\n",
    "titanic.shape"
   ]
  },
  {
   "cell_type": "markdown",
   "metadata": {
    "id": "eaeMDHTJ9Xck"
   },
   "source": [
    "Looks like there are some Nan values, let's see how many for each column"
   ]
  },
  {
   "cell_type": "code",
   "execution_count": 14,
   "metadata": {
    "id": "5AI_2olL9Xck",
    "tags": []
   },
   "outputs": [
    {
     "data": {
      "text/plain": [
       "Survived      0\n",
       "Pclass        0\n",
       "Name          0\n",
       "Sex           0\n",
       "Age         177\n",
       "SibSp         0\n",
       "Parch         0\n",
       "Ticket        0\n",
       "Fare          0\n",
       "Cabin       687\n",
       "Embarked      2\n",
       "dtype: int64"
      ]
     },
     "execution_count": 14,
     "metadata": {},
     "output_type": "execute_result"
    }
   ],
   "source": [
    "titanic.isnull().sum()"
   ]
  },
  {
   "cell_type": "markdown",
   "metadata": {
    "id": "rsjzeWQA9Xcl"
   },
   "source": [
    "**Cabin** contains a lot of Nan values, we'll drop this column <br>\n",
    "We'll replace the Nan values in **Age** with the age's median, and the ones in **Embarked** with **'S'**, which is the most frequent one in this column"
   ]
  },
  {
   "cell_type": "code",
   "execution_count": 15,
   "metadata": {
    "id": "fg6Yzqkc9Xcm",
    "tags": []
   },
   "outputs": [
    {
     "data": {
      "text/plain": [
       "Survived    0\n",
       "Pclass      0\n",
       "Name        0\n",
       "Sex         0\n",
       "Age         0\n",
       "SibSp       0\n",
       "Parch       0\n",
       "Ticket      0\n",
       "Fare        0\n",
       "Embarked    0\n",
       "dtype: int64"
      ]
     },
     "execution_count": 15,
     "metadata": {},
     "output_type": "execute_result"
    }
   ],
   "source": [
    "# your code here to drop Cabin\n",
    "titanic.drop(\"Cabin\", inplace=True, axis=1)\n",
    "# check the fillna documentation: http://pandas.pydata.org/pandas-docs/stable/generated/pandas.DataFrame.fillna.html\n",
    "titanic[\"Age\"]= titanic[\"Age\"].fillna(titanic[\"Age\"].median())\n",
    "titanic[\"Embarked\"] = titanic[\"Embarked\"].fillna(\"S\")\n",
    "titanic.isnull().sum()"
   ]
  },
  {
   "cell_type": "markdown",
   "metadata": {
    "id": "8lO-sbAc9Xcn"
   },
   "source": [
    "## Visualization"
   ]
  },
  {
   "cell_type": "code",
   "execution_count": 16,
   "metadata": {
    "id": "pPZdkF3K9Xcn",
    "tags": []
   },
   "outputs": [
    {
     "name": "stdout",
     "output_type": "stream",
     "text": [
      "survival rate = 0.3838383838383838\n"
     ]
    },
    {
     "data": {
      "text/plain": [
       "<Axes: title={'center': \"Label's Balance\"}, xlabel='Survived'>"
      ]
     },
     "execution_count": 16,
     "metadata": {},
     "output_type": "execute_result"
    },
    {
     "data": {
      "image/png": "[encoded data removed]",
      "text/plain": [
       "<Figure size 640x480 with 1 Axes>"
      ]
     },
     "metadata": {},
     "output_type": "display_data"
    }
   ],
   "source": [
    "%matplotlib inline\n",
    "import matplotlib.pyplot as plt\n",
    "print ('survival rate =', titanic.Survived.mean())\n",
    "(titanic.groupby('Survived').size()/titanic.shape[0]).plot(kind=\"bar\",title=\"Label's Balance\")\n"
   ]
  },
  {
   "cell_type": "code",
   "execution_count": 17,
   "metadata": {
    "id": "mVjSojhJ9Xco",
    "tags": []
   },
   "outputs": [],
   "source": [
    "# make a function to plot survival against passenger attribute\n",
    "def survival_rate(column,t):\n",
    "    df=pd.DataFrame()\n",
    "    df['total']=titanic.groupby(column).size()\n",
    "    df['survived'] = titanic.groupby(column).sum()['Survived']\n",
    "    df['percentage'] = round(df['survived']/df['total']*100,2)\n",
    "    print(df)\n",
    "\n",
    "    df['survived'].plot(kind=t)\n",
    "    df['total'].plot(kind=t,alpha=0.5,title=\"Survivors per \"+str(column))\n",
    "    plt.show()"
   ]
  },
  {
   "cell_type": "code",
   "execution_count": 18,
   "metadata": {
    "id": "e9Ds55q79Xco",
    "tags": []
   },
   "outputs": [
    {
     "name": "stdout",
     "output_type": "stream",
     "text": [
      "        total  survived  percentage\n",
      "Sex                                \n",
      "female    314       233       74.20\n",
      "male      577       109       18.89\n"
     ]
    },
    {
     "data": {
      "image/png": "[encoded data removed]",
      "text/plain": [
       "<Figure size 640x480 with 1 Axes>"
      ]
     },
     "metadata": {},
     "output_type": "display_data"
    }
   ],
   "source": [
    "# Draw survival per Sex\n",
    "survival_rate(\"Sex\",\"barh\")"
   ]
  },
  {
   "cell_type": "code",
   "execution_count": 19,
   "metadata": {
    "id": "ESv52uFP9Xcp",
    "tags": []
   },
   "outputs": [
    {
     "name": "stdout",
     "output_type": "stream",
     "text": [
      "        total  survived  percentage\n",
      "Pclass                             \n",
      "1         216       136       62.96\n",
      "2         184        87       47.28\n",
      "3         491       119       24.24\n"
     ]
    },
    {
     "data": {
      "image/png": "[encoded data removed]",
      "text/plain": [
       "<Figure size 640x480 with 1 Axes>"
      ]
     },
     "metadata": {},
     "output_type": "display_data"
    }
   ],
   "source": [
    "# Draw survival per Class\n",
    "survival_rate(\"Pclass\",\"barh\")"
   ]
  },
  {
   "cell_type": "code",
   "execution_count": 20,
   "metadata": {
    "id": "YrTGe5Yw9Xcp",
    "tags": []
   },
   "outputs": [
    {
     "name": "stdout",
     "output_type": "stream",
     "text": [
      "          total  survived  percentage\n",
      "Embarked                             \n",
      "C           168        93       55.36\n",
      "Q            77        30       38.96\n",
      "S           646       219       33.90\n"
     ]
    },
    {
     "data": {
      "image/png": "[encoded data removed]",
      "text/plain": [
       "<Figure size 640x480 with 1 Axes>"
      ]
     },
     "metadata": {},
     "output_type": "display_data"
    }
   ],
   "source": [
    "# Graph survived per port of embarkation\n",
    "survival_rate(\"Embarked\",\"bar\")"
   ]
  },
  {
   "cell_type": "code",
   "execution_count": 22,
   "metadata": {
    "id": "HMoRYtzq9Xcp",
    "tags": []
   },
   "outputs": [
    {
     "name": "stdout",
     "output_type": "stream",
     "text": [
      "       total  survived  percentage\n",
      "Parch                             \n",
      "0        678       233       34.37\n",
      "1        118        65       55.08\n",
      "2         80        40       50.00\n",
      "3          5         3       60.00\n",
      "4          4         0        0.00\n",
      "5          5         1       20.00\n",
      "6          1         0        0.00\n"
     ]
    },
    {
     "data": {
      "image/png": "[encoded data removed]",
      "text/plain": [
       "<Figure size 640x480 with 1 Axes>"
      ]
     },
     "metadata": {},
     "output_type": "display_data"
    }
   ],
   "source": [
    "# Draw survived per Number of Parents/Children Aboard (Parch)\n",
    "survival_rate(\"Parch\",\"barh\")"
   ]
  },
  {
   "cell_type": "code",
   "execution_count": 23,
   "metadata": {
    "id": "FN4wuUhv9Xcp",
    "tags": []
   },
   "outputs": [
    {
     "name": "stdout",
     "output_type": "stream",
     "text": [
      "       total  survived  percentage\n",
      "SibSp                             \n",
      "0        608       210       34.54\n",
      "1        209       112       53.59\n",
      "2         28        13       46.43\n",
      "3         16         4       25.00\n",
      "4         18         3       16.67\n",
      "5          5         0        0.00\n",
      "8          7         0        0.00\n"
     ]
    },
    {
     "data": {
      "image/png": "[encoded data removed]",
      "text/plain": [
       "<Figure size 640x480 with 1 Axes>"
      ]
     },
     "metadata": {},
     "output_type": "display_data"
    }
   ],
   "source": [
    "# Draw survived per Number of Siblings/Spouses Aboard (SibSp)\n",
    "survival_rate(\"SibSp\",\"barh\")"
   ]
  },
  {
   "cell_type": "markdown",
   "metadata": {
    "id": "-fEc4HUu9Xcq"
   },
   "source": [
    "## Model training"
   ]
  },
  {
   "cell_type": "markdown",
   "metadata": {
    "id": "SpAeGxFl9Xcq"
   },
   "source": [
    "Some of the columns don't have predictive power, so let's specify which ones are included for prediction"
   ]
  },
  {
   "cell_type": "code",
   "execution_count": 24,
   "metadata": {
    "id": "ZFt_bUDH9Xcq",
    "tags": []
   },
   "outputs": [],
   "source": [
    "predictors = [\"Pclass\", \"Sex\", \"Age\", 'SibSp' ,'Parch', \"Fare\", \"Embarked\"]  "
   ]
  },
  {
   "cell_type": "markdown",
   "metadata": {
    "id": "4QReR82E9Xcq"
   },
   "source": [
    "We need now to convert text columns in **predictors** to numerical ones"
   ]
  },
  {
   "cell_type": "code",
   "execution_count": 25,
   "metadata": {
    "id": "XxK-7mYN9Xcr",
    "tags": []
   },
   "outputs": [
    {
     "data": {
      "text/html": [
       "<div>\n",
       "<style scoped>\n",
       "    .dataframe tbody tr th:only-of-type {\n",
       "        vertical-align: middle;\n",
       "    }\n",
       "\n",
       "    .dataframe tbody tr th {\n",
       "        vertical-align: top;\n",
       "    }\n",
       "\n",
       "    .dataframe thead th {\n",
       "        text-align: right;\n",
       "    }\n",
       "</style>\n",
       "<table border=\"1\" class=\"dataframe\">\n",
       "  <thead>\n",
       "    <tr style=\"text-align: right;\">\n",
       "      <th></th>\n",
       "      <th>Survived</th>\n",
       "      <th>Pclass</th>\n",
       "      <th>Name</th>\n",
       "      <th>Sex</th>\n",
       "      <th>Age</th>\n",
       "      <th>SibSp</th>\n",
       "      <th>Parch</th>\n",
       "      <th>Ticket</th>\n",
       "      <th>Fare</th>\n",
       "      <th>Embarked</th>\n",
       "    </tr>\n",
       "    <tr>\n",
       "      <th>PassengerId</th>\n",
       "      <th></th>\n",
       "      <th></th>\n",
       "      <th></th>\n",
       "      <th></th>\n",
       "      <th></th>\n",
       "      <th></th>\n",
       "      <th></th>\n",
       "      <th></th>\n",
       "      <th></th>\n",
       "      <th></th>\n",
       "    </tr>\n",
       "  </thead>\n",
       "  <tbody>\n",
       "    <tr>\n",
       "      <th>1</th>\n",
       "      <td>0</td>\n",
       "      <td>3</td>\n",
       "      <td>Braund, Mr. Owen Harris</td>\n",
       "      <td>1</td>\n",
       "      <td>22.0</td>\n",
       "      <td>1</td>\n",
       "      <td>0</td>\n",
       "      <td>A/5 21171</td>\n",
       "      <td>7.2500</td>\n",
       "      <td>2</td>\n",
       "    </tr>\n",
       "    <tr>\n",
       "      <th>2</th>\n",
       "      <td>1</td>\n",
       "      <td>1</td>\n",
       "      <td>Cumings, Mrs. John Bradley (Florence Briggs Th...</td>\n",
       "      <td>0</td>\n",
       "      <td>38.0</td>\n",
       "      <td>1</td>\n",
       "      <td>0</td>\n",
       "      <td>PC 17599</td>\n",
       "      <td>71.2833</td>\n",
       "      <td>0</td>\n",
       "    </tr>\n",
       "    <tr>\n",
       "      <th>3</th>\n",
       "      <td>1</td>\n",
       "      <td>3</td>\n",
       "      <td>Heikkinen, Miss. Laina</td>\n",
       "      <td>0</td>\n",
       "      <td>26.0</td>\n",
       "      <td>0</td>\n",
       "      <td>0</td>\n",
       "      <td>STON/O2. 3101282</td>\n",
       "      <td>7.9250</td>\n",
       "      <td>2</td>\n",
       "    </tr>\n",
       "    <tr>\n",
       "      <th>4</th>\n",
       "      <td>1</td>\n",
       "      <td>1</td>\n",
       "      <td>Futrelle, Mrs. Jacques Heath (Lily May Peel)</td>\n",
       "      <td>0</td>\n",
       "      <td>35.0</td>\n",
       "      <td>1</td>\n",
       "      <td>0</td>\n",
       "      <td>113803</td>\n",
       "      <td>53.1000</td>\n",
       "      <td>2</td>\n",
       "    </tr>\n",
       "    <tr>\n",
       "      <th>5</th>\n",
       "      <td>0</td>\n",
       "      <td>3</td>\n",
       "      <td>Allen, Mr. William Henry</td>\n",
       "      <td>1</td>\n",
       "      <td>35.0</td>\n",
       "      <td>0</td>\n",
       "      <td>0</td>\n",
       "      <td>373450</td>\n",
       "      <td>8.0500</td>\n",
       "      <td>2</td>\n",
       "    </tr>\n",
       "  </tbody>\n",
       "</table>\n",
       "</div>"
      ],
      "text/plain": [
       "             Survived  Pclass   \n",
       "PassengerId                     \n",
       "1                   0       3  \\\n",
       "2                   1       1   \n",
       "3                   1       3   \n",
       "4                   1       1   \n",
       "5                   0       3   \n",
       "\n",
       "                                                          Name  Sex   Age   \n",
       "PassengerId                                                                 \n",
       "1                                      Braund, Mr. Owen Harris    1  22.0  \\\n",
       "2            Cumings, Mrs. John Bradley (Florence Briggs Th...    0  38.0   \n",
       "3                                       Heikkinen, Miss. Laina    0  26.0   \n",
       "4                 Futrelle, Mrs. Jacques Heath (Lily May Peel)    0  35.0   \n",
       "5                                     Allen, Mr. William Henry    1  35.0   \n",
       "\n",
       "             SibSp  Parch            Ticket     Fare  Embarked  \n",
       "PassengerId                                                     \n",
       "1                1      0         A/5 21171   7.2500         2  \n",
       "2                1      0          PC 17599  71.2833         0  \n",
       "3                0      0  STON/O2. 3101282   7.9250         2  \n",
       "4                1      0            113803  53.1000         2  \n",
       "5                0      0            373450   8.0500         2  "
      ]
     },
     "execution_count": 25,
     "metadata": {},
     "output_type": "execute_result"
    }
   ],
   "source": [
    "for col in predictors: # Loop through all columns in predictors\n",
    "    if titanic[col].dtype == 'object':  # check if column's type is object (text)\n",
    "        titanic[col] = pd.Categorical(titanic[col]).codes  # convert text to numerical\n",
    "\n",
    "titanic.head()"
   ]
  },
  {
   "cell_type": "code",
   "execution_count": 35,
   "metadata": {
    "id": "7CvWSj-k9Xcr",
    "tags": []
   },
   "outputs": [
    {
     "name": "stdout",
     "output_type": "stream",
     "text": [
      "train shape (623, 7) (623, 1)\n",
      "test shape (268, 7) (268, 1)\n"
     ]
    }
   ],
   "source": [
    "# Split the data into a training set and a testing set. Set: test_size=0.3, random_state=1\n",
    "from sklearn.model_selection import train_test_split\n",
    "y = pd.DataFrame(data=titanic[\"Survived\"])\n",
    "x = titanic[predictors]\n",
    "X_train, X_test, y_train, y_test = train_test_split(x, y, test_size = 0.3, random_state = 1)\n",
    "\n",
    "print (\"train shape\", X_train.shape, y_train.shape)\n",
    "print (\"test shape\", X_test.shape, y_test.shape)"
   ]
  },
  {
   "cell_type": "code",
   "execution_count": 36,
   "metadata": {
    "id": "KBjnYcSk9Xcr",
    "tags": []
   },
   "outputs": [
    {
     "name": "stdout",
     "output_type": "stream",
     "text": [
      "train accuracy = 0.8073836276083467\n",
      "test accuracy = 0.7723880597014925\n"
     ]
    }
   ],
   "source": [
    "# import LogisticRegression from: http://scikit-learn.org/stable/modules/generated/sklearn.linear_model.LogisticRegression.html\n",
    "from sklearn.linear_model import LogisticRegression\n",
    "clf = LogisticRegression(random_state=1)\n",
    "clf.fit(X_train, y_train)\n",
    "\n",
    "train_score = clf.score(X_train, y_train)\n",
    "test_score = clf.score(X_test, y_test)\n",
    "print ('train accuracy =', train_score)\n",
    "print ('test accuracy =', test_score)"
   ]
  },
  {
   "cell_type": "markdown",
   "metadata": {
    "id": "3h_lLo9L9Xcs"
   },
   "source": [
    "Let's print the model's parameters"
   ]
  },
  {
   "cell_type": "code",
   "execution_count": 37,
   "metadata": {
    "id": "g8O0eXo-9Xcs",
    "tags": []
   },
   "outputs": [
    {
     "name": "stdout",
     "output_type": "stream",
     "text": [
      "     Feature  Coefficient Estimate\n",
      "0     Pclass             -1.158693\n",
      "1        Sex             -2.708761\n",
      "2        Age             -0.040634\n",
      "3      SibSp             -0.334012\n",
      "4      Parch              0.071939\n",
      "5       Fare             -0.000570\n",
      "6   Embarked             -0.223307\n",
      "7  Intercept              5.391545\n"
     ]
    }
   ],
   "source": [
    "coeff = pd.DataFrame()\n",
    "coeff['Feature'] = X_train.columns\n",
    "coeff['Coefficient Estimate'] = pd.Series(clf.coef_[0])\n",
    "coeff.loc[len(coeff)]=['Intercept',clf.intercept_[0]]\n",
    "print (coeff)"
   ]
  },
  {
   "cell_type": "markdown",
   "metadata": {
    "id": "qqGOuOla9Xcs"
   },
   "source": [
    "We now need to predict class labels for the test set. We will also generate the class probabilities"
   ]
  },
  {
   "cell_type": "code",
   "execution_count": 66,
   "metadata": {
    "id": "XP9i5RY89Xcs",
    "tags": []
   },
   "outputs": [
    {
     "name": "stdout",
     "output_type": "stream",
     "text": [
      "[1 0 1 1 1 0 0 1 1 1 0 1 0 0 1 0 0 0 0 1 0 0 1 0 1 0 1 1 0 1 1 0 0 1 0 1 0\n",
      " 0 1 0 1 1 1 0 1 0 0 0 0 0 0 1 0 0 0 1 0 0 0 1 0 0 0 0 0 1 0 0 1 0 0 0 0 0\n",
      " 1 0 1 0 0 1 0 0 0 0 1 0 0 0 1 1 0 0 0 1 0 1 0 1 0 0 1 0 0 1 1 0 0 0 0 0 0\n",
      " 0 0 0 0 0 0 0 1 1 1 0 0 0 1 1 1 1 0 0 0 0 1 1 0 1 1 0 0 1 1 0 1 1 0 1 0 0\n",
      " 1 0 1 0 0 1 0 0 0 0 1 0 0 0 1 0 0 1 1 0 0 0 1 1 1 0 1 0 0 0 1 0 1 1 0 0 1\n",
      " 0 0 1 0 1 0 0 1 1 1 1 0 1 0 0 0 1 0 0 0 1 1 0 0 0 1 0 0 0 0 0 0 1 1 0 0 0\n",
      " 0 0 0 0 1 0 1 0 0 0 0 0 0 1 1 1 1 0 0 0 0 0 0 0 1 1 0 1 0 0 0 1 1 1 0 1 0\n",
      " 1 1 0 1 1 0 0 1 0]\n"
     ]
    }
   ],
   "source": [
    "# predict class labels for the test set\n",
    "y_pred = clf.predict(X_test)\n",
    "print (y_pred)"
   ]
  },
  {
   "cell_type": "code",
   "execution_count": 39,
   "metadata": {
    "id": "YcyX1vod9Xcs",
    "tags": []
   },
   "outputs": [
    {
     "name": "stdout",
     "output_type": "stream",
     "text": [
      "[[0.13931137 0.86068863]\n",
      " [0.915457   0.084543  ]\n",
      " [0.12666421 0.87333579]\n",
      " [0.36591844 0.63408156]\n",
      " [0.07784302 0.92215698]\n",
      " [0.89067952 0.10932048]\n",
      " [0.80772609 0.19227391]\n",
      " [0.11922782 0.88077218]\n",
      " [0.49862949 0.50137051]\n",
      " [0.44730682 0.55269318]\n",
      " [0.90553195 0.09446805]\n",
      " [0.39942794 0.60057206]\n",
      " [0.75883958 0.24116042]\n",
      " [0.7731844  0.2268156 ]\n",
      " [0.36586718 0.63413282]\n",
      " [0.51884411 0.48115589]\n",
      " [0.92555342 0.07444658]\n",
      " [0.92813018 0.07186982]\n",
      " [0.93745225 0.06254775]\n",
      " [0.23336021 0.76663979]\n",
      " [0.92721773 0.07278227]\n",
      " [0.89953162 0.10046838]\n",
      " [0.03807372 0.96192628]\n",
      " [0.70151645 0.29848355]\n",
      " [0.27209457 0.72790543]\n",
      " [0.91229353 0.08770647]\n",
      " [0.06263096 0.93736904]\n",
      " [0.2862834  0.7137166 ]\n",
      " [0.75835591 0.24164409]\n",
      " [0.05700657 0.94299343]\n",
      " [0.36148883 0.63851117]\n",
      " [0.51940624 0.48059376]\n",
      " [0.52697868 0.47302132]\n",
      " [0.47141329 0.52858671]\n",
      " [0.93503277 0.06496723]\n",
      " [0.48609827 0.51390173]\n",
      " [0.59876815 0.40123185]\n",
      " [0.91543126 0.08456874]\n",
      " [0.46440481 0.53559519]\n",
      " [0.88665974 0.11334026]\n",
      " [0.4092141  0.5907859 ]\n",
      " [0.37536584 0.62463416]\n",
      " [0.17017258 0.82982742]\n",
      " [0.68732006 0.31267994]\n",
      " [0.38994384 0.61005616]\n",
      " [0.93499757 0.06500243]\n",
      " [0.96230482 0.03769518]\n",
      " [0.84202261 0.15797739]\n",
      " [0.54739982 0.45260018]\n",
      " [0.67641528 0.32358472]\n",
      " [0.6858815  0.3141185 ]\n",
      " [0.14576081 0.85423919]\n",
      " [0.7025036  0.2974964 ]\n",
      " [0.82491771 0.17508229]\n",
      " [0.91861766 0.08138234]\n",
      " [0.46242402 0.53757598]\n",
      " [0.77998673 0.22001327]\n",
      " [0.8052798  0.1947202 ]\n",
      " [0.9435759  0.0564241 ]\n",
      " [0.34271169 0.65728831]\n",
      " [0.90350275 0.09649725]\n",
      " [0.87382042 0.12617958]\n",
      " [0.7623927  0.2376073 ]\n",
      " [0.68269641 0.31730359]\n",
      " [0.59481952 0.40518048]\n",
      " [0.29478286 0.70521714]\n",
      " [0.86726861 0.13273139]\n",
      " [0.86535403 0.13464597]\n",
      " [0.18945434 0.81054566]\n",
      " [0.89143825 0.10856175]\n",
      " [0.94769379 0.05230621]\n",
      " [0.95670746 0.04329254]\n",
      " [0.59633706 0.40366294]\n",
      " [0.915457   0.084543  ]\n",
      " [0.42423355 0.57576645]\n",
      " [0.76448444 0.23551556]\n",
      " [0.11916198 0.88083802]\n",
      " [0.89648572 0.10351428]\n",
      " [0.70048649 0.29951351]\n",
      " [0.04365583 0.95634417]\n",
      " [0.91121822 0.08878178]\n",
      " [0.99293509 0.00706491]\n",
      " [0.9154638  0.0845362 ]\n",
      " [0.93246397 0.06753603]\n",
      " [0.10605239 0.89394761]\n",
      " [0.91861694 0.08138306]\n",
      " [0.9154638  0.0845362 ]\n",
      " [0.87382015 0.12617985]\n",
      " [0.49623724 0.50376276]\n",
      " [0.40263043 0.59736957]\n",
      " [0.69991868 0.30008132]\n",
      " [0.87391362 0.12608638]\n",
      " [0.88461374 0.11538626]\n",
      " [0.36586718 0.63413282]\n",
      " [0.91552775 0.08447225]\n",
      " [0.42818751 0.57181249]\n",
      " [0.97445535 0.02554465]\n",
      " [0.31570206 0.68429794]\n",
      " [0.8825141  0.1174859 ]\n",
      " [0.915457   0.084543  ]\n",
      " [0.41004906 0.58995094]\n",
      " [0.61458276 0.38541724]\n",
      " [0.90041203 0.09958797]\n",
      " [0.2230893  0.7769107 ]\n",
      " [0.02604361 0.97395639]\n",
      " [0.8984163  0.1015837 ]\n",
      " [0.91855584 0.08144416]\n",
      " [0.91854837 0.08145163]\n",
      " [0.94327157 0.05672843]\n",
      " [0.95033325 0.04966675]\n",
      " [0.69708255 0.30291745]\n",
      " [0.8444035  0.1555965 ]\n",
      " [0.88483767 0.11516233]\n",
      " [0.9304876  0.0695124 ]\n",
      " [0.73559737 0.26440263]\n",
      " [0.92990719 0.07009281]\n",
      " [0.83279774 0.16720226]\n",
      " [0.63316865 0.36683135]\n",
      " [0.30663778 0.69336222]\n",
      " [0.44911511 0.55088489]\n",
      " [0.24214453 0.75785547]\n",
      " [0.79297848 0.20702152]\n",
      " [0.915457   0.084543  ]\n",
      " [0.69406319 0.30593681]\n",
      " [0.07066799 0.92933201]\n",
      " [0.04755758 0.95244242]\n",
      " [0.18506811 0.81493189]\n",
      " [0.36112814 0.63887186]\n",
      " [0.99293509 0.00706491]\n",
      " [0.89648572 0.10351428]\n",
      " [0.90199821 0.09800179]\n",
      " [0.95401327 0.04598673]\n",
      " [0.21790298 0.78209702]\n",
      " [0.40534811 0.59465189]\n",
      " [0.70747291 0.29252709]\n",
      " [0.14276063 0.85723937]\n",
      " [0.04096157 0.95903843]\n",
      " [0.9444573  0.0555427 ]\n",
      " [0.90962263 0.09037737]\n",
      " [0.370525   0.629475  ]\n",
      " [0.0762899  0.9237101 ]\n",
      " [0.94471617 0.05528383]\n",
      " [0.04932137 0.95067863]\n",
      " [0.41909007 0.58090993]\n",
      " [0.91545167 0.08454833]\n",
      " [0.40292782 0.59707218]\n",
      " [0.79361534 0.20638466]\n",
      " [0.9154638  0.0845362 ]\n",
      " [0.38923598 0.61076402]\n",
      " [0.89457592 0.10542408]\n",
      " [0.18961416 0.81038584]\n",
      " [0.9619835  0.0380165 ]\n",
      " [0.91517926 0.08482074]\n",
      " [0.31135494 0.68864506]\n",
      " [0.91757678 0.08242322]\n",
      " [0.92723455 0.07276545]\n",
      " [0.89454119 0.10545881]\n",
      " [0.95030331 0.04969669]\n",
      " [0.16312908 0.83687092]\n",
      " [0.73559737 0.26440263]\n",
      " [0.87363736 0.12636264]\n",
      " [0.91552775 0.08447225]\n",
      " [0.3517909  0.6482091 ]\n",
      " [0.52011773 0.47988227]\n",
      " [0.95117034 0.04882966]\n",
      " [0.27613712 0.72386288]\n",
      " [0.26098567 0.73901433]\n",
      " [0.91757678 0.08242322]\n",
      " [0.86928392 0.13071608]\n",
      " [0.67991503 0.32008497]\n",
      " [0.07456515 0.92543485]\n",
      " [0.45571942 0.54428058]\n",
      " [0.07461253 0.92538747]\n",
      " [0.90359916 0.09640084]\n",
      " [0.14425533 0.85574467]\n",
      " [0.51506456 0.48493544]\n",
      " [0.89648484 0.10351516]\n",
      " [0.8669579  0.1330421 ]\n",
      " [0.24876047 0.75123953]\n",
      " [0.94457123 0.05542877]\n",
      " [0.04827436 0.95172564]\n",
      " [0.22443573 0.77556427]\n",
      " [0.83814022 0.16185978]\n",
      " [0.93127958 0.06872042]\n",
      " [0.07674831 0.92325169]\n",
      " [0.69424474 0.30575526]\n",
      " [0.9154638  0.0845362 ]\n",
      " [0.05584452 0.94415548]\n",
      " [0.89648572 0.10351428]\n",
      " [0.08097666 0.91902334]\n",
      " [0.52218058 0.47781942]\n",
      " [0.68380063 0.31619937]\n",
      " [0.36586718 0.63413282]\n",
      " [0.21385596 0.78614404]\n",
      " [0.21772101 0.78227899]\n",
      " [0.10006189 0.89993811]\n",
      " [0.77188209 0.22811791]\n",
      " [0.13697135 0.86302865]\n",
      " [0.90378722 0.09621278]\n",
      " [0.80045625 0.19954375]\n",
      " [0.87377412 0.12622588]\n",
      " [0.28185838 0.71814162]\n",
      " [0.87382015 0.12617985]\n",
      " [0.64055225 0.35944775]\n",
      " [0.67216987 0.32783013]\n",
      " [0.16179713 0.83820287]\n",
      " [0.20825986 0.79174014]\n",
      " [0.75109821 0.24890179]\n",
      " [0.51884411 0.48115589]\n",
      " [0.96819807 0.03180193]\n",
      " [0.05269653 0.94730347]\n",
      " [0.93165801 0.06834199]\n",
      " [0.87604358 0.12395642]\n",
      " [0.77746925 0.22253075]\n",
      " [0.8494558  0.1505442 ]\n",
      " [0.93503221 0.06496779]\n",
      " [0.89643854 0.10356146]\n",
      " [0.04124998 0.95875002]\n",
      " [0.19534002 0.80465998]\n",
      " [0.77085865 0.22914135]\n",
      " [0.51933509 0.48066491]\n",
      " [0.87382015 0.12617985]\n",
      " [0.74132785 0.25867215]\n",
      " [0.72964246 0.27035754]\n",
      " [0.92394548 0.07605452]\n",
      " [0.70094164 0.29905836]\n",
      " [0.04415579 0.95584421]\n",
      " [0.51470898 0.48529102]\n",
      " [0.23425439 0.76574561]\n",
      " [0.70097314 0.29902686]\n",
      " [0.60811078 0.39188922]\n",
      " [0.83497748 0.16502252]\n",
      " [0.67771177 0.32228823]\n",
      " [0.81308544 0.18691456]\n",
      " [0.94205141 0.05794859]\n",
      " [0.39282347 0.60717653]\n",
      " [0.46814377 0.53185623]\n",
      " [0.33317342 0.66682658]\n",
      " [0.28618635 0.71381365]\n",
      " [0.92215561 0.07784439]\n",
      " [0.94286815 0.05713185]\n",
      " [0.83457969 0.16542031]\n",
      " [0.88251182 0.11748818]\n",
      " [0.92906438 0.07093562]\n",
      " [0.95096979 0.04903021]\n",
      " [0.92442748 0.07557252]\n",
      " [0.19105466 0.80894534]\n",
      " [0.22468391 0.77531609]\n",
      " [0.65007577 0.34992423]\n",
      " [0.09251534 0.90748466]\n",
      " [0.94833692 0.05166308]\n",
      " [0.90019623 0.09980377]\n",
      " [0.6822891  0.3177109 ]\n",
      " [0.40806752 0.59193248]\n",
      " [0.1956172  0.8043828 ]\n",
      " [0.27749954 0.72250046]\n",
      " [0.76966934 0.23033066]\n",
      " [0.27027967 0.72972033]\n",
      " [0.83450645 0.16549355]\n",
      " [0.44297796 0.55702204]\n",
      " [0.10338882 0.89661118]\n",
      " [0.92394548 0.07605452]\n",
      " [0.36586718 0.63413282]\n",
      " [0.1433254  0.8566746 ]\n",
      " [0.76730525 0.23269475]\n",
      " [0.80676685 0.19323315]\n",
      " [0.46946162 0.53053838]\n",
      " [0.76143737 0.23856263]]\n"
     ]
    }
   ],
   "source": [
    "# generate class probabilities : http://scikit-learn.org/stable/modules/generated/sklearn.linear_model.LogisticRegression.html\n",
    "y_probs = clf.predict_proba(X_test)\n",
    "print (y_probs)"
   ]
  },
  {
   "cell_type": "markdown",
   "metadata": {
    "id": "LZcfyRhp9Xcs"
   },
   "source": [
    "As you can see, the classifier outputs two probabilities for each row. It's predicting a 1 (Survived) any time the probability in the second column is greater than 0.5. Let's visualize it all together."
   ]
  },
  {
   "cell_type": "code",
   "execution_count": 65,
   "metadata": {
    "id": "NpLKax-J9Xcs",
    "tags": []
   },
   "outputs": [
    {
     "data": {
      "text/html": [
       "<div>\n",
       "<style scoped>\n",
       "    .dataframe tbody tr th:only-of-type {\n",
       "        vertical-align: middle;\n",
       "    }\n",
       "\n",
       "    .dataframe tbody tr th {\n",
       "        vertical-align: top;\n",
       "    }\n",
       "\n",
       "    .dataframe thead th {\n",
       "        text-align: right;\n",
       "    }\n",
       "</style>\n",
       "<table border=\"1\" class=\"dataframe\">\n",
       "  <thead>\n",
       "    <tr style=\"text-align: right;\">\n",
       "      <th></th>\n",
       "      <th>Survived_original</th>\n",
       "      <th>Survived_predicted</th>\n",
       "      <th>Survived_proba</th>\n",
       "      <th>Comparison</th>\n",
       "    </tr>\n",
       "    <tr>\n",
       "      <th>PassengerId</th>\n",
       "      <th></th>\n",
       "      <th></th>\n",
       "      <th></th>\n",
       "      <th></th>\n",
       "    </tr>\n",
       "  </thead>\n",
       "  <tbody>\n",
       "    <tr>\n",
       "      <th>863</th>\n",
       "      <td>1</td>\n",
       "      <td>1</td>\n",
       "      <td>0.860689</td>\n",
       "      <td>True</td>\n",
       "    </tr>\n",
       "    <tr>\n",
       "      <th>224</th>\n",
       "      <td>0</td>\n",
       "      <td>0</td>\n",
       "      <td>0.084543</td>\n",
       "      <td>True</td>\n",
       "    </tr>\n",
       "    <tr>\n",
       "      <th>85</th>\n",
       "      <td>1</td>\n",
       "      <td>1</td>\n",
       "      <td>0.873336</td>\n",
       "      <td>True</td>\n",
       "    </tr>\n",
       "    <tr>\n",
       "      <th>681</th>\n",
       "      <td>0</td>\n",
       "      <td>1</td>\n",
       "      <td>0.634082</td>\n",
       "      <td>False</td>\n",
       "    </tr>\n",
       "    <tr>\n",
       "      <th>536</th>\n",
       "      <td>1</td>\n",
       "      <td>1</td>\n",
       "      <td>0.922157</td>\n",
       "      <td>True</td>\n",
       "    </tr>\n",
       "  </tbody>\n",
       "</table>\n",
       "</div>"
      ],
      "text/plain": [
       "             Survived_original  Survived_predicted  Survived_proba  Comparison\n",
       "PassengerId                                                                   \n",
       "863                          1                   1        0.860689        True\n",
       "224                          0                   0        0.084543        True\n",
       "85                           1                   1        0.873336        True\n",
       "681                          0                   1        0.634082       False\n",
       "536                          1                   1        0.922157        True"
      ]
     },
     "execution_count": 65,
     "metadata": {},
     "output_type": "execute_result"
    }
   ],
   "source": [
    "pred = pd.DataFrame({        \n",
    "        \"Survived_original\": y_test.squeeze(),\n",
    "        \"Survived_predicted\": y_pred,\n",
    "        \"Survived_proba\": np.transpose(y_probs)[1]      \n",
    "        })\n",
    "pred[\"Comparison\"]= pred.Survived_original ==pred.Survived_predicted\n",
    "pred.head()"
   ]
  },
  {
   "cell_type": "markdown",
   "metadata": {
    "id": "Phow9sQf9Xct"
   },
   "source": [
    "## Confusion matrix"
   ]
  },
  {
   "cell_type": "code",
   "execution_count": 67,
   "metadata": {
    "id": "5uI53Euc9Xct",
    "tags": []
   },
   "outputs": [
    {
     "name": "stdout",
     "output_type": "stream",
     "text": [
      "[[129  24]\n",
      " [ 37  78]]\n",
      "              precision    recall  f1-score   support\n",
      "\n",
      "           0       0.78      0.84      0.81       153\n",
      "           1       0.76      0.68      0.72       115\n",
      "\n",
      "    accuracy                           0.77       268\n",
      "   macro avg       0.77      0.76      0.76       268\n",
      "weighted avg       0.77      0.77      0.77       268\n",
      "\n"
     ]
    }
   ],
   "source": [
    "from sklearn import metrics\n",
    "print (metrics.confusion_matrix(y_test, y_pred))\n",
    "print (metrics.classification_report(y_test, y_pred))"
   ]
  },
  {
   "cell_type": "markdown",
   "metadata": {
    "id": "Uvm8Z-pM9Xct"
   },
   "source": [
    "As you can see, we can have the classification report for each class"
   ]
  },
  {
   "cell_type": "markdown",
   "metadata": {
    "id": "lOBU4czd9Xct"
   },
   "source": [
    "## K-Fold Cross Validation"
   ]
  },
  {
   "cell_type": "code",
   "execution_count": 70,
   "metadata": {
    "id": "vY5Jyd6E9Xct",
    "tags": []
   },
   "outputs": [
    {
     "name": "stdout",
     "output_type": "stream",
     "text": [
      "[0.7877095  0.78651685 0.78089888 0.76966292 0.82022472]\n",
      "0.7890025735986442\n"
     ]
    }
   ],
   "source": [
    "# import cross_validation from: http://scikit-learn.org/stable/modules/generated/sklearn.model_selection.cross_val_score.html\n",
    "from sklearn.model_selection import cross_val_score\n",
    "clf = LogisticRegression(random_state=1)\n",
    "scores = cross_val_score(clf, titanic[predictors], titanic[\"Survived\"], scoring='accuracy', cv=5)\n",
    "## see model \n",
    "print(scores)\n",
    "# Take the mean of the scores (because we have one for each fold)\n",
    "print(scores.mean())"
   ]
  },
  {
   "cell_type": "markdown",
   "metadata": {
    "id": "wzBrwUE_9Xct"
   },
   "source": [
    "When you are improving a model, you want to make sur that you are really doing it and not just being lucky. This is why it's good to work with cross validation instead of one train/test split."
   ]
  },
  {
   "cell_type": "code",
   "execution_count": null,
   "metadata": {
    "id": "TE4z7B6g9Xcu",
    "tags": []
   },
   "outputs": [],
   "source": []
  }
 ],
 "metadata": {
  "anaconda-cloud": {},
  "colab": {
   "collapsed_sections": [],
   "name": "Lab3-[Logistic Regression]-Titanic.ipynb",
   "provenance": []
  },
  "kernelspec": {
   "display_name": "Python 3 (ipykernel)",
   "language": "python",
   "name": "python3"
  },
  "language_info": {
   "codemirror_mode": {
    "name": "ipython",
    "version": 3
   },
   "file_extension": ".py",
   "mimetype": "text/x-python",
   "name": "python",
   "nbconvert_exporter": "python",
   "pygments_lexer": "ipython3",
   "version": "3.11.5"
  }
 },
 "nbformat": 4,
 "nbformat_minor": 4
}
